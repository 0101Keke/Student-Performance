{
 "cells": [
  {
   "cell_type": "code",
   "execution_count": 63,
   "id": "d5feb423",
   "metadata": {},
   "outputs": [],
   "source": [
    "import pandas as pd\n",
    "import numpy as np\n",
    "from sklearn.model_selection import train_test_split\n",
    "from sklearn.preprocessing import StandardScaler\n",
    "from sklearn.linear_model import LogisticRegression\n",
    "from sklearn.ensemble import RandomForestClassifier\n",
    "from sklearn.metrics import classification_report\n",
    "from sklearn.utils.class_weight import compute_sample_weight\n",
    "from xgboost import XGBClassifier\n"
   ]
  },
  {
   "cell_type": "code",
   "execution_count": 64,
   "id": "7828436c-6d6c-47ce-902b-95fef1350d1a",
   "metadata": {},
   "outputs": [
    {
     "name": "stdout",
     "output_type": "stream",
     "text": [
      "Defaulting to user installation because normal site-packages is not writeable\n",
      "Requirement already satisfied: xgboost in c:\\users\\mosa work\\appdata\\roaming\\python\\python312\\site-packages (3.0.0)\n",
      "Requirement already satisfied: numpy in d:\\applications\\anaconda python\\lib\\site-packages (from xgboost) (1.26.4)\n",
      "Requirement already satisfied: scipy in d:\\applications\\anaconda python\\lib\\site-packages (from xgboost) (1.13.1)\n"
     ]
    }
   ],
   "source": [
    "!pip install xgboost"
   ]
  },
  {
   "cell_type": "code",
   "execution_count": 65,
   "id": "ba8d1af5",
   "metadata": {},
   "outputs": [],
   "source": [
    "df = pd.read_csv('Student_performance_data .csv')\n"
   ]
  },
  {
   "cell_type": "code",
   "execution_count": 78,
   "id": "60a0f6cb",
   "metadata": {},
   "outputs": [
    {
     "name": "stdout",
     "output_type": "stream",
     "text": [
      "Sample of Ethnicity Encoded Columns (converted to integers):\n",
      "   Ethnicity_0  Ethnicity_1  Ethnicity_2  Ethnicity_3\n",
      "0            1            0            0            0\n",
      "1            1            0            0            0\n",
      "2            0            0            1            0\n",
      "3            1            0            0            0\n",
      "4            1            0            0            0\n"
     ]
    }
   ],
   "source": [
    "#df = pd.get_dummies(df, columns=['Ethnicity'], prefix='Ethnicity')\n",
    "ethnicity_cols = ['Ethnicity_0', 'Ethnicity_1', 'Ethnicity_2', 'Ethnicity_3']\n",
    "df[ethnicity_cols] = df[ethnicity_cols].astype(int)\n",
    "print(\"Sample of Ethnicity Encoded Columns (converted to integers):\")\n",
    "print(df[ethnicity_cols].head())"
   ]
  },
  {
   "cell_type": "code",
   "execution_count": 80,
   "id": "f790e519-3f44-4d70-b970-e4d6c5d968f5",
   "metadata": {},
   "outputs": [
    {
     "data": {
      "text/plain": [
       "['StudentID',\n",
       " 'Age',\n",
       " 'Gender',\n",
       " 'ParentalEducation',\n",
       " 'StudyTimeWeekly',\n",
       " 'Absences',\n",
       " 'Tutoring',\n",
       " 'ParentalSupport',\n",
       " 'Extracurricular',\n",
       " 'Sports',\n",
       " 'Music',\n",
       " 'Volunteering',\n",
       " 'GPA',\n",
       " 'GradeClass',\n",
       " 'Ethnicity_0',\n",
       " 'Ethnicity_1',\n",
       " 'Ethnicity_2',\n",
       " 'Ethnicity_3']"
      ]
     },
     "execution_count": 80,
     "metadata": {},
     "output_type": "execute_result"
    }
   ],
   "source": [
    "df.columns.to_list()"
   ]
  },
  {
   "cell_type": "code",
   "execution_count": null,
   "id": "0cacfc14-60b7-4214-9aaa-b4abcb9d4718",
   "metadata": {},
   "outputs": [
    {
     "data": {
      "text/html": [
       "<div>\n",
       "<style scoped>\n",
       "    .dataframe tbody tr th:only-of-type {\n",
       "        vertical-align: middle;\n",
       "    }\n",
       "\n",
       "    .dataframe tbody tr th {\n",
       "        vertical-align: top;\n",
       "    }\n",
       "\n",
       "    .dataframe thead th {\n",
       "        text-align: right;\n",
       "    }\n",
       "</style>\n",
       "<table border=\"1\" class=\"dataframe\">\n",
       "  <thead>\n",
       "    <tr style=\"text-align: right;\">\n",
       "      <th></th>\n",
       "      <th>StudentID</th>\n",
       "      <th>Age</th>\n",
       "      <th>Gender</th>\n",
       "      <th>ParentalEducation</th>\n",
       "      <th>StudyTimeWeekly</th>\n",
       "      <th>Absences</th>\n",
       "      <th>Tutoring</th>\n",
       "      <th>ParentalSupport</th>\n",
       "      <th>Extracurricular</th>\n",
       "      <th>Sports</th>\n",
       "      <th>Music</th>\n",
       "      <th>Volunteering</th>\n",
       "      <th>GPA</th>\n",
       "      <th>GradeClass</th>\n",
       "      <th>Ethnicity_0</th>\n",
       "      <th>Ethnicity_1</th>\n",
       "      <th>Ethnicity_2</th>\n",
       "      <th>Ethnicity_3</th>\n",
       "    </tr>\n",
       "  </thead>\n",
       "  <tbody>\n",
       "    <tr>\n",
       "      <th>0</th>\n",
       "      <td>1001</td>\n",
       "      <td>0.472919</td>\n",
       "      <td>1</td>\n",
       "      <td>2</td>\n",
       "      <td>1.780336</td>\n",
       "      <td>-0.890822</td>\n",
       "      <td>1</td>\n",
       "      <td>-0.108744</td>\n",
       "      <td>0</td>\n",
       "      <td>0</td>\n",
       "      <td>1</td>\n",
       "      <td>0</td>\n",
       "      <td>2.929196</td>\n",
       "      <td>2.0</td>\n",
       "      <td>1</td>\n",
       "      <td>0</td>\n",
       "      <td>0</td>\n",
       "      <td>0</td>\n",
       "    </tr>\n",
       "    <tr>\n",
       "      <th>1</th>\n",
       "      <td>1002</td>\n",
       "      <td>1.362944</td>\n",
       "      <td>0</td>\n",
       "      <td>1</td>\n",
       "      <td>0.997376</td>\n",
       "      <td>-1.717694</td>\n",
       "      <td>0</td>\n",
       "      <td>-0.999551</td>\n",
       "      <td>0</td>\n",
       "      <td>0</td>\n",
       "      <td>0</td>\n",
       "      <td>0</td>\n",
       "      <td>3.042915</td>\n",
       "      <td>1.0</td>\n",
       "      <td>1</td>\n",
       "      <td>0</td>\n",
       "      <td>0</td>\n",
       "      <td>0</td>\n",
       "    </tr>\n",
       "    <tr>\n",
       "      <th>2</th>\n",
       "      <td>1003</td>\n",
       "      <td>-1.307132</td>\n",
       "      <td>0</td>\n",
       "      <td>3</td>\n",
       "      <td>-0.984045</td>\n",
       "      <td>1.353542</td>\n",
       "      <td>0</td>\n",
       "      <td>-0.108744</td>\n",
       "      <td>0</td>\n",
       "      <td>0</td>\n",
       "      <td>0</td>\n",
       "      <td>0</td>\n",
       "      <td>0.112602</td>\n",
       "      <td>4.0</td>\n",
       "      <td>0</td>\n",
       "      <td>0</td>\n",
       "      <td>1</td>\n",
       "      <td>0</td>\n",
       "    </tr>\n",
       "    <tr>\n",
       "      <th>3</th>\n",
       "      <td>1004</td>\n",
       "      <td>0.472919</td>\n",
       "      <td>1</td>\n",
       "      <td>3</td>\n",
       "      <td>0.045445</td>\n",
       "      <td>-0.063951</td>\n",
       "      <td>0</td>\n",
       "      <td>0.782063</td>\n",
       "      <td>1</td>\n",
       "      <td>0</td>\n",
       "      <td>0</td>\n",
       "      <td>0</td>\n",
       "      <td>2.054218</td>\n",
       "      <td>3.0</td>\n",
       "      <td>1</td>\n",
       "      <td>0</td>\n",
       "      <td>0</td>\n",
       "      <td>0</td>\n",
       "    </tr>\n",
       "    <tr>\n",
       "      <th>4</th>\n",
       "      <td>1005</td>\n",
       "      <td>0.472919</td>\n",
       "      <td>1</td>\n",
       "      <td>2</td>\n",
       "      <td>-0.902311</td>\n",
       "      <td>0.290422</td>\n",
       "      <td>1</td>\n",
       "      <td>0.782063</td>\n",
       "      <td>0</td>\n",
       "      <td>0</td>\n",
       "      <td>0</td>\n",
       "      <td>0</td>\n",
       "      <td>1.288061</td>\n",
       "      <td>4.0</td>\n",
       "      <td>1</td>\n",
       "      <td>0</td>\n",
       "      <td>0</td>\n",
       "      <td>0</td>\n",
       "    </tr>\n",
       "  </tbody>\n",
       "</table>\n",
       "</div>"
      ],
      "text/plain": [
       "   StudentID       Age  Gender  ParentalEducation  StudyTimeWeekly  Absences  \\\n",
       "0       1001  0.472919       1                  2         1.780336 -0.890822   \n",
       "1       1002  1.362944       0                  1         0.997376 -1.717694   \n",
       "2       1003 -1.307132       0                  3        -0.984045  1.353542   \n",
       "3       1004  0.472919       1                  3         0.045445 -0.063951   \n",
       "4       1005  0.472919       1                  2        -0.902311  0.290422   \n",
       "\n",
       "   Tutoring  ParentalSupport  Extracurricular  Sports  Music  Volunteering  \\\n",
       "0         1        -0.108744                0       0      1             0   \n",
       "1         0        -0.999551                0       0      0             0   \n",
       "2         0        -0.108744                0       0      0             0   \n",
       "3         0         0.782063                1       0      0             0   \n",
       "4         1         0.782063                0       0      0             0   \n",
       "\n",
       "        GPA  GradeClass  Ethnicity_0  Ethnicity_1  Ethnicity_2  Ethnicity_3  \n",
       "0  2.929196         2.0            1            0            0            0  \n",
       "1  3.042915         1.0            1            0            0            0  \n",
       "2  0.112602         4.0            0            0            1            0  \n",
       "3  2.054218         3.0            1            0            0            0  \n",
       "4  1.288061         4.0            1            0            0            0  "
      ]
     },
     "execution_count": 79,
     "metadata": {},
     "output_type": "execute_result"
    }
   ],
   "source": [
    "df.head() #checking the new columns"
   ]
  },
  {
   "cell_type": "code",
   "execution_count": 68,
   "id": "af174729",
   "metadata": {},
   "outputs": [
    {
     "name": "stdout",
     "output_type": "stream",
     "text": [
      "Scaled Data Sample:\n"
     ]
    },
    {
     "data": {
      "text/html": [
       "<div>\n",
       "<style scoped>\n",
       "    .dataframe tbody tr th:only-of-type {\n",
       "        vertical-align: middle;\n",
       "    }\n",
       "\n",
       "    .dataframe tbody tr th {\n",
       "        vertical-align: top;\n",
       "    }\n",
       "\n",
       "    .dataframe thead th {\n",
       "        text-align: right;\n",
       "    }\n",
       "</style>\n",
       "<table border=\"1\" class=\"dataframe\">\n",
       "  <thead>\n",
       "    <tr style=\"text-align: right;\">\n",
       "      <th></th>\n",
       "      <th>Age</th>\n",
       "      <th>ParentalSupport</th>\n",
       "      <th>StudyTimeWeekly</th>\n",
       "      <th>Absences</th>\n",
       "    </tr>\n",
       "  </thead>\n",
       "  <tbody>\n",
       "    <tr>\n",
       "      <th>0</th>\n",
       "      <td>0.472919</td>\n",
       "      <td>-0.108744</td>\n",
       "      <td>1.780336</td>\n",
       "      <td>-0.890822</td>\n",
       "    </tr>\n",
       "    <tr>\n",
       "      <th>1</th>\n",
       "      <td>1.362944</td>\n",
       "      <td>-0.999551</td>\n",
       "      <td>0.997376</td>\n",
       "      <td>-1.717694</td>\n",
       "    </tr>\n",
       "    <tr>\n",
       "      <th>2</th>\n",
       "      <td>-1.307132</td>\n",
       "      <td>-0.108744</td>\n",
       "      <td>-0.984045</td>\n",
       "      <td>1.353542</td>\n",
       "    </tr>\n",
       "    <tr>\n",
       "      <th>3</th>\n",
       "      <td>0.472919</td>\n",
       "      <td>0.782063</td>\n",
       "      <td>0.045445</td>\n",
       "      <td>-0.063951</td>\n",
       "    </tr>\n",
       "    <tr>\n",
       "      <th>4</th>\n",
       "      <td>0.472919</td>\n",
       "      <td>0.782063</td>\n",
       "      <td>-0.902311</td>\n",
       "      <td>0.290422</td>\n",
       "    </tr>\n",
       "  </tbody>\n",
       "</table>\n",
       "</div>"
      ],
      "text/plain": [
       "        Age  ParentalSupport  StudyTimeWeekly  Absences\n",
       "0  0.472919        -0.108744         1.780336 -0.890822\n",
       "1  1.362944        -0.999551         0.997376 -1.717694\n",
       "2 -1.307132        -0.108744        -0.984045  1.353542\n",
       "3  0.472919         0.782063         0.045445 -0.063951\n",
       "4  0.472919         0.782063        -0.902311  0.290422"
      ]
     },
     "execution_count": 68,
     "metadata": {},
     "output_type": "execute_result"
    }
   ],
   "source": [
    "scaler = StandardScaler()\n",
    "numerical_cols = ['Age', 'ParentalSupport','StudyTimeWeekly', 'Absences' ] #Ensures that all the numeric features are all on the same scale , allows LR to perform better\n",
    "df[numerical_cols] = scaler.fit_transform(df[numerical_cols]) #scale is between -2 and 2\n",
    "print(\"Scaled Data Sample:\")\n",
    "df[numerical_cols].head()"
   ]
  },
  {
   "cell_type": "code",
   "execution_count": 69,
   "id": "0246817f",
   "metadata": {},
   "outputs": [],
   "source": [
    "x = df.drop(['StudentID', 'GPA', 'GradeClass'], axis=1)\n",
    "y = df['GradeClass']"
   ]
  },
  {
   "cell_type": "code",
   "execution_count": 70,
   "id": "5744979b-da4d-4a79-a519-aebc7540757c",
   "metadata": {},
   "outputs": [
    {
     "name": "stdout",
     "output_type": "stream",
     "text": [
      "Features in X: ['Age', 'Gender', 'ParentalEducation', 'StudyTimeWeekly', 'Absences', 'Tutoring', 'ParentalSupport', 'Extracurricular', 'Sports', 'Music', 'Volunteering', 'Ethnicity_0', 'Ethnicity_1', 'Ethnicity_2', 'Ethnicity_3']\n",
      "Target Y Sample: 0    2.0\n",
      "1    1.0\n",
      "2    4.0\n",
      "3    3.0\n",
      "4    4.0\n",
      "Name: GradeClass, dtype: float64\n"
     ]
    }
   ],
   "source": [
    "print(\"Features in X:\", x.columns.tolist()) #displays the features the Datafeame will use to train modeedls\n",
    "print(\"Target Y Sample:\", y.head()) # the target variable that is we're tyring to predict"
   ]
  },
  {
   "cell_type": "code",
   "execution_count": 71,
   "id": "1f7d12c6-2334-4253-bd21-44e73f2c609f",
   "metadata": {},
   "outputs": [],
   "source": [
    "x_train,x_test, y_train, y_test = train_test_split(x, y, test_size=0.2, random_state=42, stratify=y) #Train-Test Split : Training-Data = 80% Test-Data = 20%\n"
   ]
  },
  {
   "cell_type": "code",
   "execution_count": 72,
   "id": "4c37e3a4",
   "metadata": {},
   "outputs": [
    {
     "name": "stdout",
     "output_type": "stream",
     "text": [
      "Training set size: (1913, 15)\n",
      "Testing set size: (479, 15)\n"
     ]
    }
   ],
   "source": [
    "print(\"Training set size:\", x_train.shape) #Displays the data split\n",
    "print(\"Testing set size:\", x_test.shape)"
   ]
  },
  {
   "cell_type": "code",
   "execution_count": 73,
   "id": "e564c46c",
   "metadata": {},
   "outputs": [
    {
     "name": "stdout",
     "output_type": "stream",
     "text": [
      "\n",
      "Logistic Regression Results:\n",
      "              precision    recall  f1-score   support\n",
      "\n",
      "         0.0       0.11      0.33      0.17        21\n",
      "         1.0       0.39      0.30      0.34        54\n",
      "         2.0       0.46      0.47      0.47        78\n",
      "         3.0       0.35      0.43      0.39        83\n",
      "         4.0       0.95      0.76      0.84       243\n",
      "\n",
      "    accuracy                           0.58       479\n",
      "   macro avg       0.45      0.46      0.44       479\n",
      "weighted avg       0.67      0.58      0.62       479\n",
      "\n"
     ]
    }
   ],
   "source": [
    "log_model = LogisticRegression(max_iter=1000 , class_weight='balanced') #Creates Logistic regression model , \"balanced\" handles the implance in GradeClass(over-sampling) ; avoids the model from over-focusing on the majority class (GradeClass = C) \n",
    "log_model.fit(x_train, y_train) #trains model on the given data\n",
    "y_pred_log = log_model.predict(x_test)\n",
    "print(\"\\nLogistic Regression Results:\")\n",
    "print(classification_report(y_test, y_pred_log))\n"
   ]
  },
  {
   "cell_type": "code",
   "execution_count": 74,
   "id": "dacb54db",
   "metadata": {
    "scrolled": true
   },
   "outputs": [
    {
     "name": "stdout",
     "output_type": "stream",
     "text": [
      "\n",
      "Random Forest Results:\n",
      "              precision    recall  f1-score   support\n",
      "\n",
      "         0.0       0.20      0.10      0.13        21\n",
      "         1.0       0.48      0.39      0.43        54\n",
      "         2.0       0.50      0.62      0.55        78\n",
      "         3.0       0.47      0.41      0.44        83\n",
      "         4.0       0.87      0.92      0.90       243\n",
      "\n",
      "    accuracy                           0.69       479\n",
      "   macro avg       0.50      0.49      0.49       479\n",
      "weighted avg       0.67      0.69      0.67       479\n",
      "\n"
     ]
    }
   ],
   "source": [
    "rf_model = RandomForestClassifier(n_estimators=100, random_state=42 , class_weight='balanced')\n",
    "rf_model.fit(x_train, y_train) #trains model on the given data\n",
    "y_pred_rf = rf_model.predict(x_test)\n",
    "print(\"\\nRandom Forest Results:\")\n",
    "print(classification_report(y_test, y_pred_rf))"
   ]
  },
  {
   "cell_type": "code",
   "execution_count": 75,
   "id": "1055a439-053d-4eab-acf4-c3c283e20ee3",
   "metadata": {},
   "outputs": [
    {
     "data": {
      "text/html": [
       "<div>\n",
       "<style scoped>\n",
       "    .dataframe tbody tr th:only-of-type {\n",
       "        vertical-align: middle;\n",
       "    }\n",
       "\n",
       "    .dataframe tbody tr th {\n",
       "        vertical-align: top;\n",
       "    }\n",
       "\n",
       "    .dataframe thead th {\n",
       "        text-align: right;\n",
       "    }\n",
       "</style>\n",
       "<table border=\"1\" class=\"dataframe\">\n",
       "  <thead>\n",
       "    <tr style=\"text-align: right;\">\n",
       "      <th></th>\n",
       "      <th>Feature</th>\n",
       "      <th>Importance</th>\n",
       "    </tr>\n",
       "  </thead>\n",
       "  <tbody>\n",
       "    <tr>\n",
       "      <th>4</th>\n",
       "      <td>Absences</td>\n",
       "      <td>0.332502</td>\n",
       "    </tr>\n",
       "    <tr>\n",
       "      <th>3</th>\n",
       "      <td>StudyTimeWeekly</td>\n",
       "      <td>0.182718</td>\n",
       "    </tr>\n",
       "    <tr>\n",
       "      <th>6</th>\n",
       "      <td>ParentalSupport</td>\n",
       "      <td>0.084954</td>\n",
       "    </tr>\n",
       "    <tr>\n",
       "      <th>0</th>\n",
       "      <td>Age</td>\n",
       "      <td>0.071098</td>\n",
       "    </tr>\n",
       "    <tr>\n",
       "      <th>2</th>\n",
       "      <td>ParentalEducation</td>\n",
       "      <td>0.070268</td>\n",
       "    </tr>\n",
       "    <tr>\n",
       "      <th>1</th>\n",
       "      <td>Gender</td>\n",
       "      <td>0.036486</td>\n",
       "    </tr>\n",
       "    <tr>\n",
       "      <th>7</th>\n",
       "      <td>Extracurricular</td>\n",
       "      <td>0.033779</td>\n",
       "    </tr>\n",
       "    <tr>\n",
       "      <th>8</th>\n",
       "      <td>Sports</td>\n",
       "      <td>0.032438</td>\n",
       "    </tr>\n",
       "    <tr>\n",
       "      <th>5</th>\n",
       "      <td>Tutoring</td>\n",
       "      <td>0.031456</td>\n",
       "    </tr>\n",
       "    <tr>\n",
       "      <th>9</th>\n",
       "      <td>Music</td>\n",
       "      <td>0.025202</td>\n",
       "    </tr>\n",
       "    <tr>\n",
       "      <th>10</th>\n",
       "      <td>Volunteering</td>\n",
       "      <td>0.023444</td>\n",
       "    </tr>\n",
       "    <tr>\n",
       "      <th>11</th>\n",
       "      <td>Ethnicity_0</td>\n",
       "      <td>0.022920</td>\n",
       "    </tr>\n",
       "    <tr>\n",
       "      <th>12</th>\n",
       "      <td>Ethnicity_1</td>\n",
       "      <td>0.020138</td>\n",
       "    </tr>\n",
       "    <tr>\n",
       "      <th>13</th>\n",
       "      <td>Ethnicity_2</td>\n",
       "      <td>0.019891</td>\n",
       "    </tr>\n",
       "    <tr>\n",
       "      <th>14</th>\n",
       "      <td>Ethnicity_3</td>\n",
       "      <td>0.012706</td>\n",
       "    </tr>\n",
       "  </tbody>\n",
       "</table>\n",
       "</div>"
      ],
      "text/plain": [
       "              Feature  Importance\n",
       "4            Absences    0.332502\n",
       "3     StudyTimeWeekly    0.182718\n",
       "6     ParentalSupport    0.084954\n",
       "0                 Age    0.071098\n",
       "2   ParentalEducation    0.070268\n",
       "1              Gender    0.036486\n",
       "7     Extracurricular    0.033779\n",
       "8              Sports    0.032438\n",
       "5            Tutoring    0.031456\n",
       "9               Music    0.025202\n",
       "10       Volunteering    0.023444\n",
       "11        Ethnicity_0    0.022920\n",
       "12        Ethnicity_1    0.020138\n",
       "13        Ethnicity_2    0.019891\n",
       "14        Ethnicity_3    0.012706"
      ]
     },
     "execution_count": 75,
     "metadata": {},
     "output_type": "execute_result"
    }
   ],
   "source": [
    "#Checks which feature is most predictive in the rf model\n",
    "importances = rf_model.feature_importances_\n",
    "feature_names = x.columns\n",
    "feature_importance_df = pd.DataFrame({'Feature' :feature_names, 'Importance' : importances})\n",
    "feature_importance_df.sort_values(by='Importance', ascending=False)\n"
   ]
  },
  {
   "cell_type": "code",
   "execution_count": 76,
   "id": "5c2fbe43-f5b4-4ec8-9b50-8c5433bf8886",
   "metadata": {},
   "outputs": [
    {
     "name": "stdout",
     "output_type": "stream",
     "text": [
      "\n",
      "XGBoost Results:\n",
      "              precision    recall  f1-score   support\n",
      "\n",
      "         0.0       0.33      0.19      0.24        21\n",
      "         1.0       0.45      0.50      0.47        54\n",
      "         2.0       0.45      0.49      0.47        78\n",
      "         3.0       0.41      0.49      0.45        83\n",
      "         4.0       0.92      0.84      0.88       243\n",
      "\n",
      "    accuracy                           0.65       479\n",
      "   macro avg       0.51      0.50      0.50       479\n",
      "weighted avg       0.67      0.65      0.66       479\n",
      "\n"
     ]
    }
   ],
   "source": [
    "#XBB_Model\n",
    "xgb_model = XGBClassifier(eval_metric='mlogloss' ,random_state=42) #used in multi-class classifications\n",
    "sample_weights = compute_sample_weight(class_weight='balanced', y=y_train)\n",
    "xgb_model.fit(x_train,y_train,sample_weight=sample_weights) #trains model on the given data\n",
    "y_pred_xgb = xgb_model.predict(x_test)\n",
    "print(\"\\nXGBoost Results:\")\n",
    "print(classification_report(y_test, y_pred_xgb))"
   ]
  },
  {
   "cell_type": "code",
   "execution_count": null,
   "id": "ade81d8f-8bdb-4162-8d63-c403f7e01a94",
   "metadata": {},
   "outputs": [],
   "source": []
  }
 ],
 "metadata": {
  "kernelspec": {
   "display_name": "Python 3 (ipykernel)",
   "language": "python",
   "name": "python3"
  },
  "language_info": {
   "codemirror_mode": {
    "name": "ipython",
    "version": 3
   },
   "file_extension": ".py",
   "mimetype": "text/x-python",
   "name": "python",
   "nbconvert_exporter": "python",
   "pygments_lexer": "ipython3",
   "version": "3.12.7"
  }
 },
 "nbformat": 4,
 "nbformat_minor": 5
}
